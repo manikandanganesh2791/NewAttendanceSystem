{
 "cells": [
  {
   "cell_type": "code",
   "execution_count": 1,
   "metadata": {
    "collapsed": false
   },
   "outputs": [
    {
     "name": "stdout",
     "output_type": "stream",
     "text": [
      "['8/30/2016', '9/1/2016', '2/9/2017', '3/14/2017', '4/10/2017']\n"
     ]
    }
   ],
   "source": [
    "attendance_source = open('attendance_main.csv','r')\n",
    "attendance_main=open('List of school days .csv','r')\n",
    "row_source = attendance_source.readlines()\n",
    "row_main=attendance_main.read().splitlines()\n",
    "row_source_list=[]\n",
    "row_source_set = set()\n",
    "row_source_targetlist=[]\n",
    "for i in row_source[1:]:\n",
    "    a = i.replace('\\r','')\n",
    "    row_source_list=a.split(',')\n",
    "    b = row_source_list[2].replace('\"','')\n",
    "    if b not in row_source_set:\n",
    "        row_source_set.add(b)\n",
    "\n",
    "for i in row_main[1:]:\n",
    "    if i not in row_source_set:\n",
    "        row_source_targetlist.append(i)\n",
    "print row_source_targetlist"
   ]
  }
 ],
 "metadata": {
  "kernelspec": {
   "display_name": "Python 2",
   "language": "python",
   "name": "python2"
  },
  "language_info": {
   "codemirror_mode": {
    "name": "ipython",
    "version": 2
   },
   "file_extension": ".py",
   "mimetype": "text/x-python",
   "name": "python",
   "nbconvert_exporter": "python",
   "pygments_lexer": "ipython2",
   "version": "2.7.13"
  }
 },
 "nbformat": 4,
 "nbformat_minor": 2
}
