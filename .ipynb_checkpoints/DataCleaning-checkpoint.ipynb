{
 "cells": [
  {
   "cell_type": "code",
   "execution_count": 5,
   "metadata": {
    "collapsed": false
   },
   "outputs": [],
   "source": [
    "target_file = open('attendance_s_clean.csv', 'w')\n",
    "attendance_s = open('attendance_s.csv', 'r')\n",
    "row_s = attendance_s.read().splitlines()\n",
    "row_list = []\n",
    "record_dict = {}\n",
    "date_split_list = []\n",
    "date_val = \"\"\n",
    "target_line = \"\"\n",
    "\n",
    "#Method list_val is used to clean the attendance_s.csv file by returning only the set of rows having unique Id and eliminates\n",
    "#the redundant Id values. Also, this method parses the datein and dateout column values by stripping the date of the\n",
    "#format mm/dd/yyyy and removing the time values from it.\n",
    "\n",
    "def list_val(row_list):\n",
    "    result = []\n",
    "    for i in range(len(row_list)):\n",
    "        date_val = \"\"\n",
    "        date_split_list = []\n",
    "        if(i not in (0,4,5)):\n",
    "            if(i==3):\n",
    "                if(row_list[i] != 'NULL'):\n",
    "                    date_split_list=row_list[i].split(\"/\")\n",
    "                    for j in range(len(date_split_list)):\n",
    "                        if(j != 2):\n",
    "                            date_val+=date_split_list[j]+'/'\n",
    "                        else:\n",
    "                            date_val+=date_split_list[j][0:4]\n",
    "                    result.append(date_val)\n",
    "                else:\n",
    "                    result.append(row_list[i])\n",
    "            elif(i==6):\n",
    "                if(row_list[i] != 'NULL'):\n",
    "                    date_split_list=row_list[i].split(\"/\")\n",
    "                    for j in range(len(date_split_list)):\n",
    "                        if(j != 2):\n",
    "                            date_val+=date_split_list[j]+'/'\n",
    "                        else:\n",
    "                            date_val+=date_split_list[j][0:4]\n",
    "                    result.append(date_val)\n",
    "                else:\n",
    "                    result.append(row_list[i])\n",
    "            else:\n",
    "                result.append(row_list[i])\n",
    "    return result\n",
    "\n",
    "#Loop that forms the dictionary 'record_dict' to store the records from attendance_s.csv file having the key as Id and values as \n",
    "#a list carrying CardSourceId, CardHolderId, DateIn, DateOut and HoursWorked values for CardSourceId '73'\n",
    "for line in row_s[1:]:\n",
    "    row_list = line.split(\",\")\n",
    "    if(row_list[1] == '73'):\n",
    "        if(row_list[0] in record_dict):\n",
    "            row_list =[]\n",
    "            continue\n",
    "        record_dict[row_list[0]] = list_val(row_list)\n",
    "        row_list = []\n",
    "\n",
    "for key, value in record_dict.items():\n",
    "    target_line = \"\"\n",
    "    target_line+=key\n",
    "    for i in range(len(value)):\n",
    "        target_line+=\",\"+value[i]\n",
    "    target_file.write(target_line)\n",
    "    target_file.write(\"\\n\")\n",
    "target_file.close()"
   ]
  },
  {
   "cell_type": "code",
   "execution_count": 1,
   "metadata": {
    "collapsed": false
   },
   "outputs": [],
   "source": [
    "target_file_c = open('attendance_c_clean.csv', 'w')\n",
    "attendance_c = open('attendance_c.csv', 'r')\n",
    "row_c = attendance_c.read().splitlines()\n",
    "c_entry_set = set()\n",
    "line_list=[]\n",
    "iout=0\n",
    "for i in row_c[1:]:\n",
    "    line_list = i.split(\",\")\n",
    "    if line_list[0]+\"|\"+line_list[1] not in c_entry_set:\n",
    "        target_file_c.write(i)\n",
    "        target_file_c.write(\"\\n\")\n",
    "        c_entry_set.add(line_list[0]+\"|\"+line_list[1])\n",
    "target_file_c.close()"
   ]
  },
  {
   "cell_type": "code",
   "execution_count": 2,
   "metadata": {
    "collapsed": false
   },
   "outputs": [],
   "source": [
    "target_file_s = open('attendance_s_noduplicates.csv', 'w')\n",
    "attendance_s_main = open('attendance_main.csv','r')\n",
    "row_s_main = attendance_s_main.read().splitlines()\n",
    "s_entry_set = set()\n",
    "row_s_list=[]\n",
    "for i in row_s_main:\n",
    "    row_s_list=[]\n",
    "    row_s_list = i.split(\",\")\n",
    "    if row_s_list[4]+\"|\"+row_s_list[5] not in s_entry_set:\n",
    "        target_file_s.write(row_s_list[1]+','+row_s_list[2]+','+row_s_list[3])\n",
    "        target_file_s.write(\"\\n\")\n",
    "        s_entry_set.add(row_s_list[4]+\"|\"+row_s_list[5])\n",
    "target_file_s.close()"
   ]
  },
  {
   "cell_type": "code",
   "execution_count": 6,
   "metadata": {
    "collapsed": false
   },
   "outputs": [],
   "source": [
    "target_file_k = open('attendance_k_clean.csv', 'w')\n",
    "target_file_k_empty = open('attendance_k_empty.csv','w')\n",
    "attendance_k = open('attendance_k.csv','r')\n",
    "row_k = attendance_k.read().splitlines()\n",
    "row_k_list =[]\n",
    "empty_id_list=[]\n",
    "k_entry_set = set()\n",
    "for i in row_k[1:]:\n",
    "    row_k_list = i.split(\",\")\n",
    "    if(row_k_list[0] != \"\"):\n",
    "        if(row_k_list[0] + \"|\" + row_k_list[3] not in k_entry_set):\n",
    "            target_file_k.write(i)\n",
    "            target_file_k.write(\"\\n\")\n",
    "            k_entry_set.add(row_k_list[0] + \"|\" + row_k_list[3])\n",
    "    else:\n",
    "        target_file_k_empty.write(i)\n",
    "        target_file_k_empty.write(\"\\n\")\n",
    "target_file_k.close()\n",
    "target_file_k_empty.close()       "
   ]
  },
  {
   "cell_type": "code",
   "execution_count": null,
   "metadata": {
    "collapsed": true
   },
   "outputs": [],
   "source": []
  }
 ],
 "metadata": {
  "kernelspec": {
   "display_name": "Python 2",
   "language": "python",
   "name": "python2"
  },
  "language_info": {
   "codemirror_mode": {
    "name": "ipython",
    "version": 2
   },
   "file_extension": ".py",
   "mimetype": "text/x-python",
   "name": "python",
   "nbconvert_exporter": "python",
   "pygments_lexer": "ipython2",
   "version": "2.7.13"
  }
 },
 "nbformat": 4,
 "nbformat_minor": 2
}
