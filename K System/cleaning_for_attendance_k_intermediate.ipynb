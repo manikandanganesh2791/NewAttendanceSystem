{
 "cells": [
  {
   "cell_type": "code",
   "execution_count": null,
   "metadata": {
    "collapsed": true
   },
   "outputs": [],
   "source": [
    "target_file_k = open('attendance_k_intermediate.csv', 'w')\n",
    "attendance_k_inconsistent = open('inconsistent_k.csv','r')\n",
    "attendance_k = open('attendance_k_inconsistent.csv','r')\n",
    "row_k=attendance_k.readlines()\n",
    "row_k_inc=attendance_k_inconsistent.readlines()\n",
    "row_k_inc_list=[]\n",
    "row_k_con_list=[]\n",
    "row_k_list=[]\n",
    "row_k_set=set()\n",
    "row_k_dict={}\n",
    "line_string=\"\"\n",
    "flag = False\n",
    "for i in row_k_inc:\n",
    "    row_k_list=[]\n",
    "    a = i.replace('\\r','').strip()\n",
    "    row_k_list=a.split(\",\")\n",
    "    if row_k_list[1]+'|'+row_k_list[2] not in row_k_set:\n",
    "        row_k_set.add(row_k_list[1]+'|'+row_k_list[2])\n",
    "    row_k_inc_list.append(row_k_list)\n",
    "    if row_k_list[1]+'|'+ row_k_list[2] not in row_k_dict:\n",
    "        row_k_dict[row_k_list[1]+'|'+row_k_list[2]] = []\n",
    "        row_k_dict[row_k_list[1]+'|'+row_k_list[2]].append(row_k_list[3])\n",
    "    else:\n",
    "        row_k_dict[row_k_list[1]+'|'+row_k_list[2]].append(row_k_list[3])\n",
    "for i in row_k:\n",
    "    row_k_list=[]\n",
    "    a = i.replace('\\r','').strip()\n",
    "    row_k_list=a.split(',')\n",
    "    if row_k_list[1]+'|'+row_k_list[2] not in row_k_set:\n",
    "        card_id = row_k_list[1].replace('\"','')\n",
    "        line_string=card_id+','+row_k_list[2]+','+row_k_list[3]\n",
    "        target_file_k.write(line_string)\n",
    "        target_file_k.write('\\n')\n",
    "row_k_inc_list=[]\n",
    "row_k_con_dup_list=[]\n",
    "for k,v in row_k_dict.items():\n",
    "    flag = False\n",
    "    prime_status = v[0]\n",
    "    for i in range(1,len(v)):\n",
    "        if v[i] != prime_status:\n",
    "            flag = True\n",
    "            row_k_inc_list.append(k)\n",
    "            break\n",
    "    if flag == False:\n",
    "        row_k_con_dup_list.append([k])\n",
    "        row_k_con_dup_list.append(v[1])\n",
    "        for i in range(len(row_k_con_dup_list)):\n",
    "            id_dateval = row_k_con_dup_list[0]\n",
    "            fetch_list=id_dateval.split(\"|\")\n",
    "            fetch_list.append(row_k_con_dup_list[1])\n",
    "            line_string=\"\"\n",
    "            card_id = fetch_list[0].replace('\"','')\n",
    "            line_string=card_id+','+fetch_list[1]+','+fetch_list[2]\n",
    "            target_file_k.write(line_string)\n",
    "            target_file_k.write('\\n')\n",
    "target_file_k.close()"
   ]
  }
 ],
 "metadata": {
  "kernelspec": {
   "display_name": "Python 2",
   "language": "python",
   "name": "python2"
  },
  "language_info": {
   "codemirror_mode": {
    "name": "ipython",
    "version": 2
   },
   "file_extension": ".py",
   "mimetype": "text/x-python",
   "name": "python",
   "nbconvert_exporter": "python",
   "pygments_lexer": "ipython2",
   "version": "2.7.13"
  }
 },
 "nbformat": 4,
 "nbformat_minor": 2
}
